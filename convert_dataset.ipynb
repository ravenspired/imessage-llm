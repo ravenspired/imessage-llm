{
 "cells": [
  {
   "cell_type": "code",
   "execution_count": null,
   "id": "7438ca1d",
   "metadata": {},
   "outputs": [],
   "source": [
    "import re\n",
    "from tqdm import tqdm\n",
    "\n",
    "\n",
    "raw_transcript_path = \"morgan.txt\""
   ]
  },
  {
   "cell_type": "code",
   "execution_count": null,
   "id": "dc180a9c",
   "metadata": {},
   "outputs": [],
   "source": [
    "\n",
    "\n",
    "with open(raw_transcript_path, \"r\") as f:\n",
    "    lines = f.readlines()\n",
    "\n",
    "processed = []\n",
    "speaker = None\n",
    "\n",
    "for i in tqdm(range(len(lines))):\n",
    "    line = lines[i].strip()\n",
    "    \n",
    "    # Match time + skip it\n",
    "    if re.match(r\"\\w{3,9} \\d{1,2}, \\d{4}\", line):\n",
    "        continue\n",
    "\n",
    "    # Identify the speaker\n",
    "    if line == \"Me\":\n",
    "        speaker = \"<|me|>\"\n",
    "        continue\n",
    "    elif re.match(r\"\\+\\d{11}\", line):\n",
    "        speaker = \"<|friend|>\"\n",
    "        continue\n",
    "    elif line.startswith(\"/Users\"):  # Skip attachments\n",
    "        continue\n",
    "\n",
    "    if speaker and line:\n",
    "        processed.append(f\"{speaker}: {line}\")\n",
    "\n",
    "# Save to a new file\n",
    "with open(\"formatted_dialogue.txt\", \"w\") as f:\n",
    "    f.write(\"\\n\".join(processed))\n"
   ]
  },
  {
   "cell_type": "code",
   "execution_count": null,
   "id": "7610f3c0",
   "metadata": {},
   "outputs": [],
   "source": [
    "input_file = \"formatted_dialogue.txt\"\n",
    "output_file = \"formatted_dialogue.txt\"\n",
    "\n",
    "\n",
    "banned_content = [\"This message responded to an earlier message.\", \"Sticker from\", \"Tapbacks\"]\n",
    "with open(input_file, \"r\", encoding=\"utf-8\") as f:\n",
    "    lines = f.readlines()\n",
    "\n",
    "with open(output_file, \"w\", encoding=\"utf-8\") as f:\n",
    "    for line in tqdm(lines):\n",
    "        if not any(content in line for content in banned_content):\n",
    "            f.write(line)\n"
   ]
  },
  {
   "cell_type": "code",
   "execution_count": null,
   "id": "e2755d2c",
   "metadata": {},
   "outputs": [],
   "source": [
    "input_file = \"formatted_dialogue.txt\"\n",
    "output_file = \"formatted_dialogue.txt\"\n",
    "\n",
    "# Define regex patterns\n",
    "timestamp_pattern = r\"\\b\\w{3} \\d{1,2}, \\d{4} \\d{1,2}:\\d{2}:\\d{2} (AM|PM)\"\n",
    "image_attachment_pattern = r\"(/[\\w/]+\\.jpeg|/[\\w/]+\\.jpg|/[\\w/]+\\.png|/[\\w/]+\\.gif)\"\n",
    "tapback_pattern = r\"(Loved by|Liked by|Emphasized|Questioned|Laughed at|Disliked by)\"\n",
    "\n",
    "# Function to clean lines\n",
    "def clean_line(line):\n",
    "    # Remove timestamps\n",
    "    if re.search(timestamp_pattern, line):\n",
    "        return None\n",
    "    \n",
    "    # Remove image attachments\n",
    "    if re.search(image_attachment_pattern, line):\n",
    "        return None\n",
    "\n",
    "    # Remove lines with \"Loved by\" or \"Liked by\"\n",
    "    if re.search(tapback_pattern, line):\n",
    "        return None\n",
    "    \n",
    "    return line\n",
    "\n",
    "# Read and process the file\n",
    "with open(input_file, \"r\", encoding=\"utf-8\") as f:\n",
    "    lines = f.readlines()\n",
    "\n",
    "# Write the cleaned lines to a new file\n",
    "with open(output_file, \"w\", encoding=\"utf-8\") as f:\n",
    "    for line in tqdm(lines):\n",
    "        cleaned_line = clean_line(line)\n",
    "        if cleaned_line:  # Only write non-None lines\n",
    "            f.write(cleaned_line)\n",
    "\n",
    "print(f\"Cleaning complete! The cleaned transcript has been saved to '{output_file}'.\")\n"
   ]
  }
 ],
 "metadata": {
  "kernelspec": {
   "display_name": "Python 3",
   "language": "python",
   "name": "python3"
  },
  "language_info": {
   "codemirror_mode": {
    "name": "ipython",
    "version": 3
   },
   "file_extension": ".py",
   "mimetype": "text/x-python",
   "name": "python",
   "nbconvert_exporter": "python",
   "pygments_lexer": "ipython3",
   "version": "3.10.12"
  }
 },
 "nbformat": 4,
 "nbformat_minor": 5
}
